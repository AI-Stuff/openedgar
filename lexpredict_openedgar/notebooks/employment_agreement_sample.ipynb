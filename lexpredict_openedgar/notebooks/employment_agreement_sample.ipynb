{
 "cells": [
  {
   "cell_type": "code",
   "execution_count": 2,
   "metadata": {},
   "outputs": [
    {
     "name": "stdout",
     "output_type": "stream",
     "text": [
      "Loading : /opt/lexpredict-contract-database/lexpredict_corporate_database/.env\n",
      "The .env file has been loaded. See base.py for more information\n"
     ]
    }
   ],
   "source": [
    "# Setup Django paths\n",
    "import os\n",
    "import sys\n",
    "\n",
    "# Fix paths\n",
    "sys.path.append('../')\n",
    "os.environ[\"DJANGO_SETTINGS_MODULE\"] = \"config.settings.local\"\n",
    "os.environ.setdefault(\"DJANGO_SETTINGS_MODULE\", \"config.settings.local\")\n",
    "\n",
    "# Import django\n",
    "import django\n",
    "django.setup()"
   ]
  },
  {
   "cell_type": "code",
   "execution_count": 3,
   "metadata": {},
   "outputs": [],
   "source": [
    "# Imports\n",
    "from sec_edgar.models import Filing, FilingDocument\n",
    "from sec_edgar.clients.s3 import get_buffer"
   ]
  },
  {
   "cell_type": "markdown",
   "metadata": {},
   "source": [
    "### Find matching filing documents"
   ]
  },
  {
   "cell_type": "code",
   "execution_count": 8,
   "metadata": {},
   "outputs": [
    {
     "name": "stdout",
     "output_type": "stream",
     "text": [
      "FilingDocument id=2260, filing=Filing id=43, cik=1045742, form_type=10-K, date_filed=2018-01-18, sequence=8\n"
     ]
    }
   ],
   "source": [
    "agreement_list = FilingDocument.objects.filter(description__icontains=\"employment agreement\")\n",
    "fd = agreement_list[0]\n",
    "print(fd)"
   ]
  },
  {
   "cell_type": "markdown",
   "metadata": {},
   "source": [
    "### Extract text content"
   ]
  },
  {
   "cell_type": "code",
   "execution_count": 10,
   "metadata": {},
   "outputs": [
    {
     "name": "stdout",
     "output_type": "stream",
     "text": [
      "Exhibit 10.39\n",
      "\n",
      "\n",
      " \n",
      "\n",
      "\n",
      "AMENDMENT TO\n",
      "EMPLOYMENT AGREEMENT\n",
      "\n",
      "\n",
      " \n",
      "\n",
      "\n",
      "THIS\n",
      "AMENDMENT TO EMPLOYMENT AGREEMENT (this “Amendment”) is made and entered into as of the  16th day\n",
      "of January, 2018, by and between Live Ventures Incorporated (formerly known as LiveDeal, Inc.), a Nevada corporation\n",
      "(the “Company”), and Jon Isaac (“Executive”).\n",
      "\n",
      "\n",
      " \n",
      "\n",
      "\n",
      "WHEREAS,\n",
      "the Company and Executive have entered into an employment agreement, effective as of January 1, 2013 (the “Employment\n",
      "Agreement”); and\n",
      "\n",
      "\n",
      " \n",
      "\n",
      "\n",
      "WHEREAS,\n",
      "the Company and Executive desire to amend the Employment Agreement in the manner reflected herein.\n",
      "\n",
      "\n",
      " \n",
      "\n",
      "\n",
      "In\n",
      "consideration of the mutual promises, covenants and agreements herein contained, intending to be legally bound, the parties agree\n",
      "as follows:\n",
      "\n",
      "\n",
      " \n",
      "\n",
      "\n",
      "1.       Section\n",
      "2 of the Employment Agreement hereby is amended so that the Term is deemed to continue until December 31, 2020, or upon the date\n",
      "of termination of employment pursuant to Section 6 of the Employmen\n"
     ]
    }
   ],
   "source": [
    "# Show the text sample from the document\n",
    "text_contents = get_buffer(\"documents/text/{0}\".format(fd.sha1))\n",
    "print(text_contents[0:1000].decode('utf-8').strip())"
   ]
  }
 ],
 "metadata": {
  "kernelspec": {
   "display_name": "Python 3",
   "language": "python",
   "name": "python3"
  },
  "language_info": {
   "codemirror_mode": {
    "name": "ipython",
    "version": 3
   },
   "file_extension": ".py",
   "mimetype": "text/x-python",
   "name": "python",
   "nbconvert_exporter": "python",
   "pygments_lexer": "ipython3",
   "version": "3.5.2"
  }
 },
 "nbformat": 4,
 "nbformat_minor": 2
}
