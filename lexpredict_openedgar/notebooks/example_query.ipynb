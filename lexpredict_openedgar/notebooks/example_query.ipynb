{
 "cells": [
  {
   "cell_type": "code",
   "execution_count": 1,
   "metadata": {},
   "outputs": [
    {
     "name": "stdout",
     "output_type": "stream",
     "text": [
      "Loading : /opt/lexpredict-contract-database/lexpredict_corporate_database/.env\n",
      "The .env file has been loaded. See base.py for more information\n"
     ]
    }
   ],
   "source": [
    "# Setup Django paths\n",
    "import os\n",
    "import sys\n",
    "\n",
    "# Fix paths\n",
    "sys.path.append('../')\n",
    "os.environ[\"DJANGO_SETTINGS_MODULE\"] = \"config.settings.local\"\n",
    "os.environ.setdefault(\"DJANGO_SETTINGS_MODULE\", \"config.settings.local\")\n",
    "\n",
    "# Import django\n",
    "import django\n",
    "django.setup()"
   ]
  },
  {
   "cell_type": "code",
   "execution_count": 2,
   "metadata": {},
   "outputs": [],
   "source": [
    "# Imports\n",
    "from sec_edgar.models import FilingIndex, Filing, FilingDocument, Company, CompanyInfo\n",
    "from sec_edgar.clients.s3 import get_buffer"
   ]
  },
  {
   "cell_type": "markdown",
   "metadata": {},
   "source": [
    "### List basic object counts"
   ]
  },
  {
   "cell_type": "code",
   "execution_count": 3,
   "metadata": {},
   "outputs": [
    {
     "data": {
      "text/plain": [
       "1521"
      ]
     },
     "execution_count": 3,
     "metadata": {},
     "output_type": "execute_result"
    }
   ],
   "source": [
    "Filing.objects.count()"
   ]
  },
  {
   "cell_type": "code",
   "execution_count": 4,
   "metadata": {},
   "outputs": [
    {
     "data": {
      "text/plain": [
       "147598"
      ]
     },
     "execution_count": 4,
     "metadata": {},
     "output_type": "execute_result"
    }
   ],
   "source": [
    "FilingDocument.objects.count()"
   ]
  },
  {
   "cell_type": "code",
   "execution_count": 5,
   "metadata": {},
   "outputs": [
    {
     "data": {
      "text/plain": [
       "1451"
      ]
     },
     "execution_count": 5,
     "metadata": {},
     "output_type": "execute_result"
    }
   ],
   "source": [
    "Company.objects.count()"
   ]
  },
  {
   "cell_type": "markdown",
   "metadata": {},
   "source": [
    "### Search for a company and related filings"
   ]
  },
  {
   "cell_type": "code",
   "execution_count": 6,
   "metadata": {},
   "outputs": [
    {
     "data": {
      "text/plain": [
       "<QuerySet [<CompanyInfo: CompanyInfo cik=1675149, name=Alcoa Corp, date=2018-02-26>]>"
      ]
     },
     "execution_count": 6,
     "metadata": {},
     "output_type": "execute_result"
    }
   ],
   "source": [
    "CompanyInfo.objects.filter(name__icontains=\"alcoa\")"
   ]
  },
  {
   "cell_type": "code",
   "execution_count": 10,
   "metadata": {},
   "outputs": [
    {
     "data": {
      "text/plain": [
       "<QuerySet [<Filing: Filing id=333, cik=1675149, form_type=10-K, date_filed=2018-02-26>]>"
      ]
     },
     "execution_count": 10,
     "metadata": {},
     "output_type": "execute_result"
    }
   ],
   "source": [
    "# Get company and filing set from CIK\n",
    "c = Company.objects.get(cik=1675149)\n",
    "c.filing_set.all()"
   ]
  },
  {
   "cell_type": "code",
   "execution_count": 11,
   "metadata": {},
   "outputs": [
    {
     "data": {
      "text/plain": [
       "<QuerySet [<FilingDocument: FilingDocument id=32693, filing=Filing id=333, cik=1675149, form_type=10-K, date_filed=2018-02-26, sequence=1>]>"
      ]
     },
     "execution_count": 11,
     "metadata": {},
     "output_type": "execute_result"
    }
   ],
   "source": [
    "# Get first filing from company's filing set\n",
    "f = c.filing_set.all().first()"
   ]
  },
  {
   "cell_type": "code",
   "execution_count": 14,
   "metadata": {},
   "outputs": [],
   "source": [
    "# Get first document segment from first filing from company\n",
    "fd = f.filingdocument_set.filter(sequence=1).first()"
   ]
  },
  {
   "cell_type": "code",
   "execution_count": 15,
   "metadata": {},
   "outputs": [
    {
     "name": "stdout",
     "output_type": "stream",
     "text": [
      "b'\\n<HTML><HEAD>\\n<TITLE>10-K</TITLE>\\n</HEAD>\\n <BODY BGCOLOR=\"WHITE\">\\n<h5 align=\"left\"><a href=\"#toc\">Ta'\n"
     ]
    }
   ],
   "source": [
    "# Show the text sample from the document\n",
    "raw_contents = get_buffer(\"documents/raw/{0}\".format(fd.sha1))\n",
    "print(raw_contents[0:100])"
   ]
  },
  {
   "cell_type": "code",
   "execution_count": 18,
   "metadata": {},
   "outputs": [
    {
     "name": "stdout",
     "output_type": "stream",
     "text": [
      "10-K\n",
      "\n",
      "\n",
      "Table of Contents\n",
      "\n",
      "\n",
      " UNITED STATES \n",
      " SECURITIES AND EXCHANGE COMMISSION \n",
      " WASHINGTON,\n"
     ]
    }
   ],
   "source": [
    "# Show the text sample from the document\n",
    "text_contents = get_buffer(\"documents/text/{0}\".format(fd.sha1))\n",
    "print(text_contents[0:100].decode('utf-8').strip())"
   ]
  },
  {
   "cell_type": "code",
   "execution_count": null,
   "metadata": {},
   "outputs": [],
   "source": [
    "import pandas\n",
    "from django.db import connection"
   ]
  }
 ],
 "metadata": {
  "kernelspec": {
   "display_name": "Python 3",
   "language": "python",
   "name": "python3"
  },
  "language_info": {
   "codemirror_mode": {
    "name": "ipython",
    "version": 3
   },
   "file_extension": ".py",
   "mimetype": "text/x-python",
   "name": "python",
   "nbconvert_exporter": "python",
   "pygments_lexer": "ipython3",
   "version": "3.5.2"
  }
 },
 "nbformat": 4,
 "nbformat_minor": 2
}
